{
 "cells": [
  {
   "cell_type": "code",
   "execution_count": null,
   "metadata": {},
   "outputs": [],
   "source": [
    "import sys\n",
    "import copy"
   ]
  },
  {
   "cell_type": "code",
   "execution_count": null,
   "metadata": {},
   "outputs": [],
   "source": [
    "\n",
    "def pivotStart(A, start, end):\n",
    "    return start\n",
    "\n",
    "def pivotEnd(A, start, end):\n",
    "    return end\n",
    "\n",
    "def pivotMedian(A, start, end):\n",
    "    mid = start + (end - start) // 2\n",
    "    pivselect = [(A[start], start), (A[mid], mid), (A[end], end)]\n",
    "    pivselect.sort(key=lambda x: x[0])\n",
    "    return pivselect[1][1]\n"
   ]
  },
  {
   "cell_type": "code",
   "execution_count": null,
   "metadata": {},
   "outputs": [],
   "source": [
    "def partition(A, start, end):\n",
    "    p = A[start]\n",
    "    i = start + 1\n",
    "    for j in range(start + 1, end + 1):\n",
    "        if A[j] < p:\n",
    "            temp = A[j]\n",
    "            A[j] = A[i]\n",
    "            A[i] = temp\n",
    "            i += 1\n",
    "    A[start] = A[i-1]\n",
    "    A[i-1] = p\n",
    "    return i - 1\n",
    "\n",
    "def qksrt(A, pivFunc, start = 0, end = None):\n",
    "    if end == None:\n",
    "        end = len(A) - 1\n",
    "    if start >= end:\n",
    "        return # base case\n",
    "    piv = pivFunc(A, start, end)\n",
    "    tempStart = A[start]\n",
    "    A[start] = A[piv]\n",
    "    A[piv] = tempStart\n",
    "    j = partition(A, start, end)\n",
    "    qksrt(A,pivFunc, start, j - 1)\n",
    "    qksrt(A,pivFunc, j + 1, end)\n",
    "    return\n"
   ]
  },
  {
   "cell_type": "code",
   "execution_count": null,
   "metadata": {},
   "outputs": [],
   "source": [
    "\n",
    "def main():\n",
    "    A = []\n",
    "    if len(sys.argv) < 2:\n",
    "        print(\"Console Use case: python3 quicksort.py (testfile)\")\n",
    "        return\n",
    "    try:\n",
    "        with open(sys.argv[1], 'r') as f:\n",
    "            for line in f:\n",
    "                A.append(int(line.strip()))  # Strips newline characters and converts to int\n",
    "    except FileNotFoundError:\n",
    "        print(f\"File not found: {sys.argv[1]}\")\n",
    "        return\n",
    "    except ValueError:\n",
    "        print(f\"One or more lines in the file {sys.argv[1]} are not valid integers.\")\n",
    "        return\n",
    "    except Exception as e:\n",
    "        print(f\"An unexpected error occurred: {e}\")\n",
    "        return\n",
    "    copyA = copy.deepcopy(A)\n",
    "    comparisons = qksrt(A, pivotStart)\n",
    "    print(f\"Start pivot comparisons: {comparisons}\")\n",
    "    A = copy.deepcopy(copyA)\n",
    "    comparisons = qksrt(A, pivotEnd)\n",
    "    print(f\"End pivot comparisons: {comparisons}\")\n",
    "    A = copy.deepcopy(copyA)\n",
    "    comparisons = qksrt(A, pivotMedian)\n",
    "    print(f\"Median pivot comparisons: {comparisons}\")\n",
    "\n",
    "if __name__ == \"__main__\":\n",
    "    main()"
   ]
  }
 ],
 "metadata": {
  "kernelspec": {
   "display_name": "Python 3",
   "language": "python",
   "name": "python3"
  },
  "language_info": {
   "name": "python",
   "version": "3.12.2"
  }
 },
 "nbformat": 4,
 "nbformat_minor": 2
}

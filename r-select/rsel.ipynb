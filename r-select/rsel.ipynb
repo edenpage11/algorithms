{
 "cells": [
  {
   "cell_type": "code",
   "execution_count": 4,
   "metadata": {},
   "outputs": [],
   "source": [
    "import sys\n",
    "import copy"
   ]
  },
  {
   "cell_type": "code",
   "execution_count": 5,
   "metadata": {},
   "outputs": [],
   "source": [
    "\n",
    "def pivotStart(A, start, end):\n",
    "    return start\n",
    "\n",
    "def pivotEnd(A, start, end):\n",
    "    return end\n",
    "\n",
    "def pivotMedian(A, start, end):\n",
    "    mid = start + (end - start) // 2\n",
    "    pivselect = [(A[start], start), (A[mid], mid), (A[end], end)]\n",
    "    pivselect.sort(key=lambda x: x[0])\n",
    "    return pivselect[1][1]\n"
   ]
  },
  {
   "cell_type": "code",
   "execution_count": 51,
   "metadata": {},
   "outputs": [],
   "source": [
    "def partition(A, start, end):\n",
    "    p = A[start]\n",
    "    i = start + 1\n",
    "    for j in range(start + 1, end + 1):\n",
    "        if A[j] < p:\n",
    "            temp = A[j]\n",
    "            A[j] = A[i]\n",
    "            A[i] = temp\n",
    "            i += 1\n",
    "    A[start] = A[i-1]\n",
    "    A[i-1] = p\n",
    "    return i - 1\n",
    "\n",
    "def qksrt(A, pivFunc, targ, start = 0, end = None):\n",
    "    if end == None:\n",
    "        end = len(A) - 1\n",
    "    if start >= end:\n",
    "        return A[start]\n",
    "    piv = pivFunc(A, start, end)\n",
    "    tempStart = A[start]\n",
    "    A[start] = A[piv]\n",
    "    A[piv] = tempStart\n",
    "    j = partition(A, start, end)\n",
    "    if j == targ:\n",
    "        return A[j]\n",
    "    elif j > targ:\n",
    "        return qksrt(A,pivFunc, targ, start, j - 1)\n",
    "    else:\n",
    "        return qksrt(A,pivFunc, targ, j + 1, end)\n",
    "    \n"
   ]
  },
  {
   "cell_type": "code",
   "execution_count": 53,
   "metadata": {},
   "outputs": [
    {
     "name": "stdout",
     "output_type": "stream",
     "text": [
      "10 elements\n",
      "Start pivot comparisons: 5469\n",
      "End pivot comparisons: 5469\n",
      "Median pivot comparisons: 5469\n",
      "100 elements\n",
      "Start pivot comparisons: 4715\n",
      "End pivot comparisons: 4715\n",
      "Median pivot comparisons: 4715\n"
     ]
    }
   ],
   "source": [
    "\n",
    "def main(file, target = None):\n",
    "    A = []\n",
    "    with open(file, 'r') as f:\n",
    "        for line in f:\n",
    "            A.append(int(line.strip()))  # Strips newline characters and converts to int\n",
    "    if target == None:\n",
    "        target = len(A) // 2 -1 # default to the index of the median\n",
    "    copyA = copy.deepcopy(A)\n",
    "    med = qksrt(A, pivotStart, target)\n",
    "    print(f\"Start pivot comparisons: {med}\")\n",
    "    A = copy.deepcopy(copyA)\n",
    "    med = qksrt(A, pivotEnd, target)\n",
    "    print(f\"End pivot comparisons: {med}\")\n",
    "    A = copy.deepcopy(copyA)\n",
    "    med = qksrt(A, pivotMedian, target)\n",
    "    print(f\"Median pivot comparisons: {med}\")\n",
    "\n",
    "if __name__ == \"__main__\":\n",
    "    print(\"10 elements\")\n",
    "    main(\"ex10elems.txt\", 4)\n",
    "    print(\"100 elements\")\n",
    "    main(\"ex100elems.txt\", 49)\n"
   ]
  },
  {
   "cell_type": "code",
   "execution_count": 54,
   "metadata": {},
   "outputs": [],
   "source": [
    "from mpmath import mp\n",
    "\n",
    "# Set precision to get more digits of Pi (e.g., 1 million digits)\n",
    "mp.dps = 1000000 + 1 \n",
    "pi_digits = str(mp.pi)[2:]\n",
    "pi_chunks = [pi_digits[i:i+10] for i in range(0, len(pi_digits), 10)]\n",
    "\n",
    "with open('expi_chunks.txt', 'w') as file:\n",
    "    for chunk in pi_chunks:\n",
    "        file.write(chunk + '\\n')\n",
    "\n"
   ]
  },
  {
   "cell_type": "code",
   "execution_count": 55,
   "metadata": {},
   "outputs": [
    {
     "name": "stdout",
     "output_type": "stream",
     "text": [
      "Start pivot comparisons: 4972700282\n",
      "End pivot comparisons: 4972700282\n",
      "Median pivot comparisons: 4972700282\n"
     ]
    }
   ],
   "source": [
    "main(\"expi_chunks.txt\")"
   ]
  }
 ],
 "metadata": {
  "kernelspec": {
   "display_name": "Python 3",
   "language": "python",
   "name": "python3"
  },
  "language_info": {
   "codemirror_mode": {
    "name": "ipython",
    "version": 3
   },
   "file_extension": ".py",
   "mimetype": "text/x-python",
   "name": "python",
   "nbconvert_exporter": "python",
   "pygments_lexer": "ipython3",
   "version": "3.12.2"
  }
 },
 "nbformat": 4,
 "nbformat_minor": 2
}

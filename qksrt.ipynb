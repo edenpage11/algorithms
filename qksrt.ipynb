{
 "cells": [
  {
   "cell_type": "code",
   "execution_count": 5,
   "metadata": {},
   "outputs": [
    {
     "name": "stdout",
     "output_type": "stream",
     "text": [
      "[4, 5, 6, 3, 2, 1, 7] [9]\n",
      "[3, 2, 1] [5, 6, 7]\n",
      "[2, 1] []\n",
      "[1] []\n",
      "[1] []\n",
      "[1, 2] []\n",
      "[] [6, 7]\n",
      "[] [7]\n",
      "[] [7]\n",
      "[] [6, 7]\n",
      "[1, 2, 3] [5, 6, 7]\n",
      "[1, 2, 3, 4, 5, 6, 7] [9]\n"
     ]
    },
    {
     "data": {
      "text/plain": [
       "[1, 2, 3, 4, 5, 6, 7, 8, 9]"
      ]
     },
     "execution_count": 5,
     "metadata": {},
     "output_type": "execute_result"
    }
   ],
   "source": [
    "# just from pseudocode in book (pivot at first element)\n",
    "def qksrt(A):\n",
    "    if len(A) <= 1:\n",
    "        return A # base case\n",
    "    less = []\n",
    "    more = []\n",
    "    for i in range(1, len(A)):\n",
    "        if A[i] <= A[0]:\n",
    "            less.append(A[i])\n",
    "        else:\n",
    "            more.append(A[i])\n",
    "    left = qksrt(less)\n",
    "    right = qksrt(more)\n",
    "    return left + [A[0]] + right\n",
    "\n",
    "A = [8, 4, 5, 6, 3, 2, 9, 1, 7]\n",
    "qksrt(A)\n",
    "    "
   ]
  }
 ],
 "metadata": {
  "kernelspec": {
   "display_name": "Python 3",
   "language": "python",
   "name": "python3"
  },
  "language_info": {
   "codemirror_mode": {
    "name": "ipython",
    "version": 3
   },
   "file_extension": ".py",
   "mimetype": "text/x-python",
   "name": "python",
   "nbconvert_exporter": "python",
   "pygments_lexer": "ipython3",
   "version": "3.12.2"
  }
 },
 "nbformat": 4,
 "nbformat_minor": 2
}

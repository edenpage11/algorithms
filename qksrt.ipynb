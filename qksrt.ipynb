{
 "cells": [
  {
   "cell_type": "code",
   "execution_count": 5,
   "metadata": {},
   "outputs": [
    {
     "name": "stdout",
     "output_type": "stream",
     "text": [
      "[4, 5, 6, 3, 2, 1, 7] [9]\n",
      "[3, 2, 1] [5, 6, 7]\n",
      "[2, 1] []\n",
      "[1] []\n",
      "[1] []\n",
      "[1, 2] []\n",
      "[] [6, 7]\n",
      "[] [7]\n",
      "[] [7]\n",
      "[] [6, 7]\n",
      "[1, 2, 3] [5, 6, 7]\n",
      "[1, 2, 3, 4, 5, 6, 7] [9]\n"
     ]
    },
    {
     "data": {
      "text/plain": [
       "[1, 2, 3, 4, 5, 6, 7, 8, 9]"
      ]
     },
     "execution_count": 5,
     "metadata": {},
     "output_type": "execute_result"
    }
   ],
   "source": [
    "# just from pseudocode in book (pivot at first element)\n",
    "def qksrt(A):\n",
    "    if len(A) <= 1:\n",
    "        return A # base case\n",
    "    less = []\n",
    "    more = []\n",
    "    for i in range(1, len(A)):\n",
    "        if A[i] <= A[0]:\n",
    "            less.append(A[i])\n",
    "        else:\n",
    "            more.append(A[i])\n",
    "    left = qksrt(less)\n",
    "    right = qksrt(more)\n",
    "    return left + [A[0]] + right\n",
    "\n",
    "A = [8, 4, 5, 6, 3, 2, 9, 1, 7]\n",
    "qksrt(A)\n",
    "    "
   ]
  },
  {
   "cell_type": "code",
   "execution_count": 34,
   "metadata": {},
   "outputs": [
    {
     "data": {
      "text/plain": [
       "[1, 2, 3, 4, 5, 6, 7, 8, 9]"
      ]
     },
     "execution_count": 34,
     "metadata": {},
     "output_type": "execute_result"
    }
   ],
   "source": [
    "# variation with no extra mem alloc\n",
    "def qksrt2(A, start = 0, end = None):\n",
    "    if end == None:\n",
    "        end = len(A) - 1\n",
    "    if end - start <= 1:\n",
    "        return # base case\n",
    "    piv = start\n",
    "    for proc in range(start, end):\n",
    "        if A[proc + 1] < A[piv]: #the next elem to be processed belongs behind the pivit\n",
    "            A.insert(0, A.pop(proc+1))\n",
    "            piv += 1\n",
    "    qksrt2(A, end = piv)\n",
    "    qksrt2(A, start = piv+1, end = end)\n",
    "\n",
    "A = [8, 4, 5, 6, 2, 3, 9, 1, 7]\n",
    "qksrt2(A)\n",
    "A\n"
   ]
  }
 ],
 "metadata": {
  "kernelspec": {
   "display_name": "Python 3",
   "language": "python",
   "name": "python3"
  },
  "language_info": {
   "codemirror_mode": {
    "name": "ipython",
    "version": 3
   },
   "file_extension": ".py",
   "mimetype": "text/x-python",
   "name": "python",
   "nbconvert_exporter": "python",
   "pygments_lexer": "ipython3",
   "version": "3.12.2"
  }
 },
 "nbformat": 4,
 "nbformat_minor": 2
}

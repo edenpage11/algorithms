{
 "cells": [
  {
   "cell_type": "markdown",
   "metadata": {},
   "source": [
    "# Counting inversions"
   ]
  },
  {
   "cell_type": "markdown",
   "metadata": {},
   "source": [
    "### merge sort basic"
   ]
  },
  {
   "cell_type": "code",
   "execution_count": 21,
   "metadata": {},
   "outputs": [
    {
     "data": {
      "text/plain": [
       "[1, 2, 3, 4, 5, 6, 7, 8]"
      ]
     },
     "execution_count": 21,
     "metadata": {},
     "output_type": "execute_result"
    }
   ],
   "source": [
    "def merge_sort(A):\n",
    "    if len(A) <= 1:\n",
    "        return A\n",
    "    B = []\n",
    "    midIdx = len(A)//2\n",
    "    leftSort = merge_sort(A[:midIdx])\n",
    "    rightSort = merge_sort(A[midIdx:])\n",
    "    # combine\n",
    "    i = 0\n",
    "    j = 0\n",
    "    while i < len(leftSort) and j < len(rightSort):\n",
    "        x = leftSort[i]\n",
    "        y = rightSort[j]\n",
    "        if x <= y:\n",
    "            B.append(x)\n",
    "            i += 1\n",
    "        else:\n",
    "            B.append(y)\n",
    "            j += 1\n",
    "    if len(B) < len(A):\n",
    "        if i < len(leftSort):\n",
    "            B += leftSort[i:]\n",
    "        else:\n",
    "            B += rightSort[j:]\n",
    "    return B\n",
    "\n",
    "unsorted = [8, 7, 6, 5, 4, 3, 2, 1]\n",
    "sorted = merge_sort(unsorted)\n",
    "sorted\n"
   ]
  },
  {
   "cell_type": "markdown",
   "metadata": {},
   "source": [
    "### n^2 count inversions"
   ]
  },
  {
   "cell_type": "code",
   "execution_count": 23,
   "metadata": {},
   "outputs": [
    {
     "name": "stdout",
     "output_type": "stream",
     "text": [
      "0\n",
      "28\n"
     ]
    }
   ],
   "source": [
    "def slowCtInv(A):\n",
    "    invs = 0\n",
    "    for i in range(len(A) -1):\n",
    "        for j in range(i, len(A)):\n",
    "            if A[i] > A[j]:\n",
    "                invs += 1\n",
    "    return invs\n",
    "\n",
    "print(slowCtInv(sorted)) # should be 0\n",
    "print(slowCtInv(unsorted)) # should be 28"
   ]
  },
  {
   "cell_type": "markdown",
   "metadata": {},
   "source": [
    "### better count invs"
   ]
  },
  {
   "cell_type": "code",
   "execution_count": 24,
   "metadata": {},
   "outputs": [
    {
     "name": "stdout",
     "output_type": "stream",
     "text": [
      "[1, 2, 3, 4, 5, 6, 7, 8] -> ([1, 2, 3, 4, 5, 6, 7, 8], 0)\n",
      "[8, 7, 6, 5, 4, 3, 2, 1] -> ([1, 2, 3, 4, 5, 6, 7, 8], 28)\n"
     ]
    }
   ],
   "source": [
    "def countInvs(A):\n",
    "    n = len(A)\n",
    "    if n <= 1:\n",
    "        return (A, 0)\n",
    "    midIdx = n//2\n",
    "    B = []\n",
    "    leftSort, leftInvs = countInvs(A[:midIdx])\n",
    "    rightSort, rightInvs = countInvs(A[midIdx:])\n",
    "\n",
    "    total_invs = leftInvs + rightInvs\n",
    "    # combine\n",
    "    while leftSort and rightSort:\n",
    "        x = leftSort[0]\n",
    "        y = rightSort[0]\n",
    "        if x <= y:\n",
    "            B.append(leftSort.pop(0))\n",
    "        else:\n",
    "            B.append(rightSort.pop(0))\n",
    "            total_invs += len(leftSort)\n",
    "    B += leftSort + rightSort\n",
    "    return (B, total_invs)\n",
    "\n",
    "\n",
    "print(sorted, \"->\", countInvs(sorted)) # should be 0\n",
    "print(unsorted, \"->\", countInvs(unsorted)) # should be 28"
   ]
  },
  {
   "cell_type": "markdown",
   "metadata": {},
   "source": [
    "### examples"
   ]
  },
  {
   "cell_type": "code",
   "execution_count": 25,
   "metadata": {},
   "outputs": [
    {
     "name": "stdout",
     "output_type": "stream",
     "text": [
      "28 inversions\n"
     ]
    }
   ],
   "source": [
    "exArr1 = [54044, 14108, 79294, 29649, 25260, 60660, 2995, 53777, 49689, 9083]\n",
    "print(countInvs(exArr1)[1], \"inversions\")"
   ]
  },
  {
   "cell_type": "code",
   "execution_count": 29,
   "metadata": {},
   "outputs": [
    {
     "name": "stdout",
     "output_type": "stream",
     "text": [
      "2397819672 inversions\n"
     ]
    }
   ],
   "source": [
    "with open(\"ex2.txt\") as ex2:\n",
    "    exArr2 = [line.strip() for line in ex2]\n",
    "\n",
    "print(countInvs(exArr2)[1], \"inversions\")"
   ]
  }
 ],
 "metadata": {
  "kernelspec": {
   "display_name": "Python 3",
   "language": "python",
   "name": "python3"
  },
  "language_info": {
   "codemirror_mode": {
    "name": "ipython",
    "version": 3
   },
   "file_extension": ".py",
   "mimetype": "text/x-python",
   "name": "python",
   "nbconvert_exporter": "python",
   "pygments_lexer": "ipython3",
   "version": "3.12.2"
  }
 },
 "nbformat": 4,
 "nbformat_minor": 2
}

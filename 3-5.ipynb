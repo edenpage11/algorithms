{
 "cells": [
  {
   "cell_type": "markdown",
   "metadata": {},
   "source": [
    "# Counting inversions"
   ]
  },
  {
   "cell_type": "markdown",
   "metadata": {},
   "source": [
    "### merge sort basic"
   ]
  },
  {
   "cell_type": "code",
   "execution_count": 10,
   "metadata": {},
   "outputs": [
    {
     "data": {
      "text/plain": [
       "[1, 2, 3, 4, 5, 6, 7, 8, 9]"
      ]
     },
     "execution_count": 10,
     "metadata": {},
     "output_type": "execute_result"
    }
   ],
   "source": [
    "def merge_sort(A):\n",
    "    if len(A) <= 1:\n",
    "        return A\n",
    "    B = []\n",
    "    midIdx = len(A)//2\n",
    "    leftSort = merge_sort(A[:midIdx])\n",
    "    rightSort = merge_sort(A[midIdx:])\n",
    "    # combine\n",
    "    i = 0\n",
    "    j = 0\n",
    "    while i < len(leftSort) and j < len(rightSort):\n",
    "        x = leftSort[i]\n",
    "        y = rightSort[j]\n",
    "        if x <= y:\n",
    "            B.append(x)\n",
    "            i += 1\n",
    "        else:\n",
    "            B.append(y)\n",
    "            j += 1\n",
    "    if len(B) < len(A):\n",
    "        if i < len(leftSort):\n",
    "            B += leftSort[i:]\n",
    "        else:\n",
    "            B += rightSort[j:]\n",
    "    return B\n",
    "\n",
    "unsorted = [1, 2, 4, 5, 8, 9, 7, 3, 6]\n",
    "sorted = merge_sort(unsorted)\n",
    "sorted\n"
   ]
  },
  {
   "cell_type": "markdown",
   "metadata": {},
   "source": [
    "### "
   ]
  }
 ],
 "metadata": {
  "kernelspec": {
   "display_name": "Python 3",
   "language": "python",
   "name": "python3"
  },
  "language_info": {
   "codemirror_mode": {
    "name": "ipython",
    "version": 3
   },
   "file_extension": ".py",
   "mimetype": "text/x-python",
   "name": "python",
   "nbconvert_exporter": "python",
   "pygments_lexer": "ipython3",
   "version": "3.12.2"
  }
 },
 "nbformat": 4,
 "nbformat_minor": 2
}

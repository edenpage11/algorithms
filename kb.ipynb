{
 "cells": [
  {
   "cell_type": "code",
   "execution_count": 6,
   "metadata": {},
   "outputs": [
    {
     "name": "stdout",
     "output_type": "stream",
     "text": [
      "  123777\n",
      "x 123\n",
      "=\n",
      "15224571\n",
      "15224571\n"
     ]
    }
   ],
   "source": [
    "\n",
    "mult_table = {i:{j:i*j for j in range(10)} for i in range(10)}\n",
    "# print(mult_table)\n",
    "\n",
    "def karatsuba(x, y):\n",
    "    global mult_table\n",
    "    # Base case for recursion (single digits)\n",
    "    if x < 10 and y < 10:\n",
    "        return mult_table[x][y]\n",
    "\n",
    "    # Split the digit sequences in the middle \n",
    "    X = str(x)\n",
    "    Y = str(y)\n",
    "    xl = len(X)\n",
    "    yl = len(Y)\n",
    "\n",
    "    m2 = max(xl, yl) // 2\n",
    "\n",
    "    if xl < yl:\n",
    "        n_zeroes = yl-xl\n",
    "        X = \"0\"*n_zeroes + X\n",
    "    elif yl < xl:\n",
    "        n_zeroes = xl-yl\n",
    "        Y = \"0\"*n_zeroes + Y\n",
    "\n",
    "    a, b = X[:m2], X[m2:]\n",
    "    c, d = Y[:m2], Y[m2:]\n",
    "    if len(b) > len(a) or len(d) > len(c):\n",
    "        a += b[0]\n",
    "        b = b[1:]\n",
    "        c += d[0]\n",
    "        d = d[1:]\n",
    "    a, b, c, d = int(a), int(b), int(c), int(d)\n",
    "    # divmod returns the div result (the first 1/2 of digits) and the remainder (the second 1/2)\n",
    "    # a, b = divmod(x, 10**m2)\n",
    "    # c, d = divmod(y, 10**m2)\n",
    "\n",
    "    # 3 recursive calls for Karatsuba\n",
    "    ones = karatsuba(b, d) \n",
    "    tens = karatsuba(a, c) # (a * 10^m2) * (c * 10^m2) = \n",
    "    cross = karatsuba((a + b), (c + d)) - (tens + ones) # \n",
    "\n",
    "    # Use the Karatsuba formula to combine the results\n",
    "    return tens*10**(m2*2) + cross*10**m2 + ones\n",
    "\n",
    "# Example usage\n",
    "x = 123777\n",
    "y = 123\n",
    "\n",
    "result = karatsuba(x, y)\n",
    "\n",
    "print(f\"  {x}\\nx {y}\\n=\\n{result}\")\n",
    "print(x*y)\n"
   ]
  }
 ],
 "metadata": {
  "kernelspec": {
   "display_name": "Python 3",
   "language": "python",
   "name": "python3"
  },
  "language_info": {
   "codemirror_mode": {
    "name": "ipython",
    "version": 3
   },
   "file_extension": ".py",
   "mimetype": "text/x-python",
   "name": "python",
   "nbconvert_exporter": "python",
   "pygments_lexer": "ipython3",
   "version": "3.12.2"
  }
 },
 "nbformat": 4,
 "nbformat_minor": 2
}
